{
 "cells": [
  {
   "cell_type": "code",
   "execution_count": 8,
   "metadata": {},
   "outputs": [],
   "source": [
    "#import necessary library and model\n",
    "import pandas as pd\n",
    "import numpy as np\n",
    "from sklearn.model_selection import train_test_split\n",
    "import tensorflow.keras as keras\n",
    "from tensorflow.keras.models import Sequential\n",
    "from tensorflow.keras.layers import Dense, Dropout, Flatten\n",
    "from tensorflow.keras.layers import Conv2D, MaxPooling2D, BatchNormalization\n",
    "from tensorflow.keras.utils import to_categorical"
   ]
  },
  {
   "cell_type": "code",
   "execution_count": 2,
   "metadata": {},
   "outputs": [],
   "source": [
    "#load file\n",
    "df = pd.read_csv(\"ds_challenge_train.csv\", header=None, low_memory=False)"
   ]
  },
  {
   "cell_type": "code",
   "execution_count": 3,
   "metadata": {},
   "outputs": [
    {
     "name": "stdout",
     "output_type": "stream",
     "text": [
      "<class 'pandas.core.frame.DataFrame'>\n",
      "RangeIndex: 20000 entries, 0 to 19999\n",
      "Columns: 785 entries, 0 to 784\n",
      "dtypes: int64(383), object(402)\n",
      "memory usage: 119.8+ MB\n"
     ]
    }
   ],
   "source": [
    "df.info()"
   ]
  },
  {
   "cell_type": "code",
   "execution_count": 4,
   "metadata": {},
   "outputs": [],
   "source": [
    "# there are some columns contain non-numeric values\n",
    "# replace with zero\n",
    "df = df.replace('-', 0)\n",
    "df = df.apply(pd.to_numeric)"
   ]
  },
  {
   "cell_type": "code",
   "execution_count": 5,
   "metadata": {},
   "outputs": [],
   "source": [
    "# prep data for inputing to model\n",
    "X = np.array(df.iloc[:, 1:])\n",
    "y = to_categorical(np.array(df.iloc[:, 0]))\n",
    "\n",
    "X_train, X_val, y_train, y_val = train_test_split(X, y, test_size=0.3, random_state=13)"
   ]
  },
  {
   "cell_type": "code",
   "execution_count": 6,
   "metadata": {},
   "outputs": [],
   "source": [
    "img_rows, img_cols = 28, 28\n",
    "input_shape = (img_rows, img_cols, 1)\n",
    "\n",
    "X_train = X_train.reshape(X_train.shape[0], img_rows, img_cols, 1)\n",
    "X_val = X_val.reshape(X_val.shape[0], img_rows, img_cols, 1)\n",
    "\n",
    "X_train = X_train.astype('float32')\n",
    "X_val = X_val.astype('float32')\n",
    "X_train /= 255\n",
    "X_val /= 255"
   ]
  },
  {
   "cell_type": "code",
   "execution_count": 9,
   "metadata": {},
   "outputs": [],
   "source": [
    "batch_size = 256\n",
    "num_classes = 10\n",
    "epochs = 50\n",
    "\n",
    "model = Sequential()\n",
    "model.add(Conv2D(32, kernel_size=(3, 3),\n",
    "                 activation='relu',\n",
    "                 kernel_initializer='he_normal',\n",
    "                 input_shape=input_shape))\n",
    "model.add(MaxPooling2D((2, 2)))\n",
    "model.add(Dropout(0.25))\n",
    "model.add(Conv2D(64, (3, 3), activation='relu'))\n",
    "model.add(MaxPooling2D(pool_size=(2, 2)))\n",
    "model.add(Dropout(0.25))\n",
    "model.add(Conv2D(128, (3, 3), activation='relu'))\n",
    "model.add(Dropout(0.4))\n",
    "model.add(Flatten())\n",
    "model.add(Dense(128, activation='relu'))\n",
    "model.add(Dropout(0.3))\n",
    "model.add(Dense(num_classes, activation='softmax'))\n",
    "\n",
    "model.compile(loss=keras.losses.categorical_crossentropy,\n",
    "              optimizer=keras.optimizers.Adam(),\n",
    "              metrics=['accuracy'])"
   ]
  },
  {
   "cell_type": "code",
   "execution_count": 10,
   "metadata": {},
   "outputs": [
    {
     "name": "stdout",
     "output_type": "stream",
     "text": [
      "Model: \"sequential_1\"\n",
      "_________________________________________________________________\n",
      "Layer (type)                 Output Shape              Param #   \n",
      "=================================================================\n",
      "conv2d_3 (Conv2D)            (None, 26, 26, 32)        320       \n",
      "_________________________________________________________________\n",
      "max_pooling2d_2 (MaxPooling2 (None, 13, 13, 32)        0         \n",
      "_________________________________________________________________\n",
      "dropout_4 (Dropout)          (None, 13, 13, 32)        0         \n",
      "_________________________________________________________________\n",
      "conv2d_4 (Conv2D)            (None, 11, 11, 64)        18496     \n",
      "_________________________________________________________________\n",
      "max_pooling2d_3 (MaxPooling2 (None, 5, 5, 64)          0         \n",
      "_________________________________________________________________\n",
      "dropout_5 (Dropout)          (None, 5, 5, 64)          0         \n",
      "_________________________________________________________________\n",
      "conv2d_5 (Conv2D)            (None, 3, 3, 128)         73856     \n",
      "_________________________________________________________________\n",
      "dropout_6 (Dropout)          (None, 3, 3, 128)         0         \n",
      "_________________________________________________________________\n",
      "flatten_1 (Flatten)          (None, 1152)              0         \n",
      "_________________________________________________________________\n",
      "dense_2 (Dense)              (None, 128)               147584    \n",
      "_________________________________________________________________\n",
      "dropout_7 (Dropout)          (None, 128)               0         \n",
      "_________________________________________________________________\n",
      "dense_3 (Dense)              (None, 10)                1290      \n",
      "=================================================================\n",
      "Total params: 241,546\n",
      "Trainable params: 241,546\n",
      "Non-trainable params: 0\n",
      "_________________________________________________________________\n"
     ]
    }
   ],
   "source": [
    "model.summary()"
   ]
  },
  {
   "cell_type": "code",
   "execution_count": 11,
   "metadata": {},
   "outputs": [
    {
     "name": "stdout",
     "output_type": "stream",
     "text": [
      "Epoch 1/50\n",
      "55/55 [==============================] - 4s 79ms/step - loss: 1.0611 - accuracy: 0.6471 - val_loss: 0.2963 - val_accuracy: 0.9142\n",
      "Epoch 2/50\n",
      "55/55 [==============================] - 4s 81ms/step - loss: 0.3348 - accuracy: 0.8947 - val_loss: 0.1520 - val_accuracy: 0.9553\n",
      "Epoch 3/50\n",
      "55/55 [==============================] - 5s 87ms/step - loss: 0.2057 - accuracy: 0.9357 - val_loss: 0.1170 - val_accuracy: 0.9638\n",
      "Epoch 4/50\n",
      "55/55 [==============================] - 4s 81ms/step - loss: 0.1556 - accuracy: 0.9521 - val_loss: 0.0921 - val_accuracy: 0.9692\n",
      "Epoch 5/50\n",
      "55/55 [==============================] - 5s 94ms/step - loss: 0.1328 - accuracy: 0.9581 - val_loss: 0.0764 - val_accuracy: 0.9758\n",
      "Epoch 6/50\n",
      "55/55 [==============================] - 5s 87ms/step - loss: 0.1139 - accuracy: 0.9633 - val_loss: 0.0724 - val_accuracy: 0.9763\n",
      "Epoch 7/50\n",
      "55/55 [==============================] - 5s 85ms/step - loss: 0.1006 - accuracy: 0.9677 - val_loss: 0.0629 - val_accuracy: 0.9788\n",
      "Epoch 8/50\n",
      "55/55 [==============================] - 5s 89ms/step - loss: 0.0909 - accuracy: 0.9696 - val_loss: 0.0625 - val_accuracy: 0.9792\n",
      "Epoch 9/50\n",
      "55/55 [==============================] - 5s 86ms/step - loss: 0.0882 - accuracy: 0.9724 - val_loss: 0.0599 - val_accuracy: 0.9812\n",
      "Epoch 10/50\n",
      "55/55 [==============================] - 5s 93ms/step - loss: 0.0728 - accuracy: 0.9756 - val_loss: 0.0590 - val_accuracy: 0.9803\n",
      "Epoch 11/50\n",
      "55/55 [==============================] - 5s 90ms/step - loss: 0.0745 - accuracy: 0.9760 - val_loss: 0.0518 - val_accuracy: 0.9830\n",
      "Epoch 12/50\n",
      "55/55 [==============================] - 5s 88ms/step - loss: 0.0657 - accuracy: 0.9781 - val_loss: 0.0505 - val_accuracy: 0.9833\n",
      "Epoch 13/50\n",
      "55/55 [==============================] - 5s 87ms/step - loss: 0.0559 - accuracy: 0.9817 - val_loss: 0.0538 - val_accuracy: 0.9827\n",
      "Epoch 14/50\n",
      "55/55 [==============================] - 5s 91ms/step - loss: 0.0591 - accuracy: 0.9806 - val_loss: 0.0500 - val_accuracy: 0.9848\n",
      "Epoch 15/50\n",
      "55/55 [==============================] - 5s 96ms/step - loss: 0.0537 - accuracy: 0.9824 - val_loss: 0.0523 - val_accuracy: 0.9837\n",
      "Epoch 16/50\n",
      "55/55 [==============================] - 5s 89ms/step - loss: 0.0525 - accuracy: 0.9830 - val_loss: 0.0534 - val_accuracy: 0.9823\n",
      "Epoch 17/50\n",
      "55/55 [==============================] - 5s 95ms/step - loss: 0.0450 - accuracy: 0.9846 - val_loss: 0.0475 - val_accuracy: 0.9845\n",
      "Epoch 18/50\n",
      "55/55 [==============================] - 5s 94ms/step - loss: 0.0473 - accuracy: 0.9849 - val_loss: 0.0489 - val_accuracy: 0.9848\n",
      "Epoch 19/50\n",
      "55/55 [==============================] - 5s 90ms/step - loss: 0.0408 - accuracy: 0.9859 - val_loss: 0.0559 - val_accuracy: 0.9828\n",
      "Epoch 20/50\n",
      "55/55 [==============================] - 5s 88ms/step - loss: 0.0420 - accuracy: 0.9856 - val_loss: 0.0432 - val_accuracy: 0.9858\n",
      "Epoch 21/50\n",
      "55/55 [==============================] - 5s 88ms/step - loss: 0.0387 - accuracy: 0.9869 - val_loss: 0.0457 - val_accuracy: 0.9862\n",
      "Epoch 22/50\n",
      "55/55 [==============================] - 5s 93ms/step - loss: 0.0394 - accuracy: 0.9878 - val_loss: 0.0443 - val_accuracy: 0.9868\n",
      "Epoch 23/50\n",
      "55/55 [==============================] - 5s 89ms/step - loss: 0.0367 - accuracy: 0.9875 - val_loss: 0.0529 - val_accuracy: 0.9845\n",
      "Epoch 24/50\n",
      "55/55 [==============================] - 5s 92ms/step - loss: 0.0363 - accuracy: 0.9880 - val_loss: 0.0473 - val_accuracy: 0.9852\n",
      "Epoch 25/50\n",
      "55/55 [==============================] - 5s 93ms/step - loss: 0.0347 - accuracy: 0.9891 - val_loss: 0.0443 - val_accuracy: 0.9868\n",
      "Epoch 26/50\n",
      "55/55 [==============================] - 6s 104ms/step - loss: 0.0262 - accuracy: 0.9910 - val_loss: 0.0462 - val_accuracy: 0.9862\n",
      "Epoch 27/50\n",
      "55/55 [==============================] - 6s 108ms/step - loss: 0.0272 - accuracy: 0.9913 - val_loss: 0.0473 - val_accuracy: 0.9863\n",
      "Epoch 28/50\n",
      "55/55 [==============================] - 7s 135ms/step - loss: 0.0303 - accuracy: 0.9904 - val_loss: 0.0492 - val_accuracy: 0.9863\n",
      "Epoch 29/50\n",
      "55/55 [==============================] - 6s 102ms/step - loss: 0.0266 - accuracy: 0.9900 - val_loss: 0.0531 - val_accuracy: 0.9852\n",
      "Epoch 30/50\n",
      "55/55 [==============================] - 5s 95ms/step - loss: 0.0297 - accuracy: 0.9907 - val_loss: 0.0488 - val_accuracy: 0.9862\n",
      "Epoch 31/50\n",
      "55/55 [==============================] - 5s 97ms/step - loss: 0.0286 - accuracy: 0.9911 - val_loss: 0.0479 - val_accuracy: 0.9873\n",
      "Epoch 32/50\n",
      "55/55 [==============================] - 5s 99ms/step - loss: 0.0246 - accuracy: 0.9921 - val_loss: 0.0466 - val_accuracy: 0.9862\n",
      "Epoch 33/50\n",
      "55/55 [==============================] - 6s 102ms/step - loss: 0.0223 - accuracy: 0.9919 - val_loss: 0.0483 - val_accuracy: 0.9868\n",
      "Epoch 34/50\n",
      "55/55 [==============================] - 6s 108ms/step - loss: 0.0214 - accuracy: 0.9925 - val_loss: 0.0462 - val_accuracy: 0.9867\n",
      "Epoch 35/50\n",
      "55/55 [==============================] - 6s 102ms/step - loss: 0.0251 - accuracy: 0.9923 - val_loss: 0.0465 - val_accuracy: 0.9868\n",
      "Epoch 36/50\n",
      "55/55 [==============================] - 6s 109ms/step - loss: 0.0219 - accuracy: 0.9926 - val_loss: 0.0448 - val_accuracy: 0.9875\n",
      "Epoch 37/50\n",
      "55/55 [==============================] - 6s 116ms/step - loss: 0.0193 - accuracy: 0.9933 - val_loss: 0.0437 - val_accuracy: 0.9877\n",
      "Epoch 38/50\n",
      "55/55 [==============================] - 6s 103ms/step - loss: 0.0211 - accuracy: 0.9933 - val_loss: 0.0428 - val_accuracy: 0.9872\n",
      "Epoch 39/50\n",
      "55/55 [==============================] - 5s 93ms/step - loss: 0.0196 - accuracy: 0.9928 - val_loss: 0.0459 - val_accuracy: 0.9868\n",
      "Epoch 40/50\n",
      "55/55 [==============================] - 5s 89ms/step - loss: 0.0191 - accuracy: 0.9939 - val_loss: 0.0502 - val_accuracy: 0.9868\n",
      "Epoch 41/50\n",
      "55/55 [==============================] - 5s 87ms/step - loss: 0.0195 - accuracy: 0.9932 - val_loss: 0.0451 - val_accuracy: 0.9873\n",
      "Epoch 42/50\n",
      "55/55 [==============================] - 5s 94ms/step - loss: 0.0197 - accuracy: 0.9938 - val_loss: 0.0467 - val_accuracy: 0.9872\n",
      "Epoch 43/50\n",
      "55/55 [==============================] - 5s 97ms/step - loss: 0.0195 - accuracy: 0.9929 - val_loss: 0.0427 - val_accuracy: 0.9880\n",
      "Epoch 44/50\n",
      "55/55 [==============================] - 5s 98ms/step - loss: 0.0182 - accuracy: 0.9941 - val_loss: 0.0457 - val_accuracy: 0.9867\n",
      "Epoch 45/50\n",
      "55/55 [==============================] - 5s 97ms/step - loss: 0.0187 - accuracy: 0.9934 - val_loss: 0.0495 - val_accuracy: 0.9857\n",
      "Epoch 46/50\n",
      "55/55 [==============================] - 6s 104ms/step - loss: 0.0184 - accuracy: 0.9940 - val_loss: 0.0433 - val_accuracy: 0.9883\n",
      "Epoch 47/50\n",
      "55/55 [==============================] - 5s 96ms/step - loss: 0.0154 - accuracy: 0.9947 - val_loss: 0.0458 - val_accuracy: 0.9877\n",
      "Epoch 48/50\n",
      "55/55 [==============================] - 5s 97ms/step - loss: 0.0167 - accuracy: 0.9948 - val_loss: 0.0432 - val_accuracy: 0.9878\n",
      "Epoch 49/50\n",
      "55/55 [==============================] - 5s 96ms/step - loss: 0.0172 - accuracy: 0.9938 - val_loss: 0.0480 - val_accuracy: 0.9865\n",
      "Epoch 50/50\n",
      "55/55 [==============================] - 5s 94ms/step - loss: 0.0199 - accuracy: 0.9934 - val_loss: 0.0469 - val_accuracy: 0.9872\n"
     ]
    }
   ],
   "source": [
    "training = model.fit(X_train, y_train,\n",
    "          batch_size=batch_size,\n",
    "          epochs=epochs,\n",
    "          verbose=1,\n",
    "          validation_data=(X_val, y_val))"
   ]
  },
  {
   "cell_type": "code",
   "execution_count": 14,
   "metadata": {},
   "outputs": [
    {
     "name": "stdout",
     "output_type": "stream",
     "text": [
      "WARNING:tensorflow:From /Users/thanawitsuwannikom/opt/anaconda3/envs/env_1/lib/python3.8/site-packages/tensorflow/python/training/tracking/tracking.py:111: Model.state_updates (from tensorflow.python.keras.engine.training) is deprecated and will be removed in a future version.\n",
      "Instructions for updating:\n",
      "This property should not be used in TensorFlow 2.0, as updates are applied automatically.\n",
      "WARNING:tensorflow:From /Users/thanawitsuwannikom/opt/anaconda3/envs/env_1/lib/python3.8/site-packages/tensorflow/python/training/tracking/tracking.py:111: Layer.updates (from tensorflow.python.keras.engine.base_layer) is deprecated and will be removed in a future version.\n",
      "Instructions for updating:\n",
      "This property should not be used in TensorFlow 2.0, as updates are applied automatically.\n",
      "INFO:tensorflow:Assets written to: model_1/assets\n"
     ]
    }
   ],
   "source": [
    "model.save('model_1')"
   ]
  },
  {
   "cell_type": "code",
   "execution_count": null,
   "metadata": {},
   "outputs": [],
   "source": [
    "model = keras.models.load_model('path/to/location')"
   ]
  }
 ],
 "metadata": {
  "kernelspec": {
   "display_name": "Python 3",
   "language": "python",
   "name": "python3"
  },
  "language_info": {
   "codemirror_mode": {
    "name": "ipython",
    "version": 3
   },
   "file_extension": ".py",
   "mimetype": "text/x-python",
   "name": "python",
   "nbconvert_exporter": "python",
   "pygments_lexer": "ipython3",
   "version": "3.8.5"
  }
 },
 "nbformat": 4,
 "nbformat_minor": 4
}
